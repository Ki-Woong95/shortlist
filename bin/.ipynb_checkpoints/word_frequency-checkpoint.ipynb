{
 "cells": [
  {
   "cell_type": "code",
   "execution_count": 1,
   "metadata": {},
   "outputs": [],
   "source": [
    "import pandas as pd\n",
    "import csv"
   ]
  },
  {
   "cell_type": "code",
   "execution_count": 17,
   "metadata": {},
   "outputs": [],
   "source": [
    "am = pd.read_csv('../data/american.csv')\n",
    "correct = am[am['isCorrect'] == 1]"
   ]
  },
  {
   "cell_type": "markdown",
   "metadata": {},
   "source": []
  },
  {
   "cell_type": "code",
   "execution_count": 22,
   "metadata": {},
   "outputs": [
    {
     "name": "stdout",
     "output_type": "stream",
     "text": [
      "{'pɹɛskəp', 'pʌɫsɔm', 'kænsuf', 'sɛɫvən', 'plæntʃɛb', 'skɔɹʃəb', 'pælpæb', 'tʌntʃeɪp', 'pʌmpədʒ', 'plʌskəv', 'kænsəf', 'wɪdθum', 'tæskɛθ', 'rɪskəl', 'stɛlθaum', 'gæskauʤ', 'fɹɛntʃəb', 'lʌndʒeɪb', 'twɛɫvɔn', 'rʌnθum', 'daɫvəɫ', 'bʌɫkæθ', 'mɪɫkəθ', 'dɛskəp', 'fʌskoʊʤ', 'tɹʌŋkɛm', 'skælpəb', 'gɹʌnʤam', 'mʌnθəm', 'hɔɹʃɔb', 'stɛlθəm', 'stɔntʃeθ', 'rʌnθəm', 'dʌskəʤ', 'fɹɪndʒəp', 'saɫvəɫ', 'skʌmpədʒ', 'tɛntʃəm', 'daɹkaup', 'fɪɫkæθ', 'tɹɛntʃəm', 'pɪnʤup', 'θæŋkəf', 'lʌmpədʒ', 'θæŋkuf', 'tɹɛntʃæm', 'pɪnʤəp', 'dɛpθeɪm', 'dɛskɛp', 'wɪdθəm', 'kɹʌntʃeɪθ', 'fɪfθəm', 'kɹɪnʤəp', 'skɔɹʃɔb', 'kɪskɛl', 'skʌmpaʊdʒ', 'gɔntʃəθ', 'tʌskəv', 'rɪskɛl', 'dʌnʤeɪb', 'pʌɫpən', 'dʌnʤəb', 'fɹɪndʒup', 'pælpəb', 'taʊnʤət', 'dɛpθəm', 'ʧɪnʤeɪp', 'gæŋkəf', 'ʧɪnʤəp', 'staɹkaup', 'klɪfθaʊm', 'daɫvuɫ', 'glæskɛθ', 'flæskəʤ', 'tʌskɪv', 'tʃænsuf', 'kɪdθəm', 'bʌnʤəm', 'lʌntʃɔb', 'hɔɹʃəb', 'tʃænsəf', 'klɪfθəm', 'tɛlθaum', 'blæntʃɛb', 'pɹɛskɛp', 'tɹʌŋkəm', 'staɹkəp', 'kʌskəv', 'gɹʌnʤəm', 'fʌskəʤ', 'stɛpθəm', 'stɛpθeɪm', 'bʌnʤam', 'sʌntʃɔb', 'kɹɪnʤeɪp', 'tɛntʃæm', 'ɹɪnsəf', 'nʌmpədʒ', 'dʌɫkæθ', 'kɪdθum', 'blæntʃəb', 'dʌɫkəθ', 'sʌntʃəb', 'hʌskəv', 'dʌskoʊʤ', 'fɪɫkəθ', 'sɛɫvɔn', 'taʊnʤɔɪt', 'pʌɫsəm', 'hʌskiv', 'skʌɫpən', 'gæŋkuf', 'plʌskiv', 'pʌmpaʊdʒ', 'lʌmpædʒ', 'tæskəθ', 'laʊndʒɔɪt', 'tʌntʃəp', 'pɛntʃəb', 'kɹʌntʃəθ', 'twɛɫvən', 'ɹɪnsæf', 'tʃæmpoʊʃ', 'gʌɫsəm', 'lʌndʒəb', 'fʌntʃəθ', 'lʌntʃəb', 'bɹʌntʃəp', 'kɪskəl', 'tʃæmpəʃ', 'stɔntʃəθ', 'tʌŋkɛm', 'skʌɫpɔɪn', 'flæskauʤ', 'mʌnθum', 'plæntʃəb', 'laʊndʒət', 'gʌɫsɔm', 'fʌntʃeɪθ', 'slæmpoʊʃ', 'fɪfθaʊm', 'nʌmpædʒ', 'mɪɫkæθ', 'saɫvuɫ', 'bɹʌntʃeɪp', 'gæskəʤ', 'fɹɛntʃɔɪb', 'daɹkəp', 'skælpæb', 'gɔntʃeθ', 'tɛlθəm', 'bʌɫkəθ', 'tɪnsæf', 'pʌɫpɔɪn', 'pɛntʃɔɪb', 'slæmpəʃ', 'kʌskɪv', 'tɪnsəf', 'glæskəθ'}\n"
     ]
    },
    {
     "data": {
      "text/plain": [
       "159"
      ]
     },
     "execution_count": 22,
     "metadata": {},
     "output_type": "execute_result"
    }
   ],
   "source": [
    "stimuli = set(correct['Stimuli[Trial]'])\n",
    "print(stimuli)\n",
    "len(stimuli)"
   ]
  },
  {
   "cell_type": "code",
   "execution_count": null,
   "metadata": {},
   "outputs": [],
   "source": []
  }
 ],
 "metadata": {
  "kernelspec": {
   "display_name": "learning",
   "language": "python",
   "name": "python3"
  },
  "language_info": {
   "codemirror_mode": {
    "name": "ipython",
    "version": 3
   },
   "file_extension": ".py",
   "mimetype": "text/x-python",
   "name": "python",
   "nbconvert_exporter": "python",
   "pygments_lexer": "ipython3",
   "version": "3.11.5"
  },
  "orig_nbformat": 4
 },
 "nbformat": 4,
 "nbformat_minor": 2
}
